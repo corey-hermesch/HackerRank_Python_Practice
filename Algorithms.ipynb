{
 "cells": [
  {
   "cell_type": "code",
   "execution_count": 1,
   "id": "e533466c-1417-43da-a6b6-0f817b37d71f",
   "metadata": {},
   "outputs": [],
   "source": [
    "import numpy as np\n",
    "import pandas as pd"
   ]
  },
  {
   "cell_type": "markdown",
   "id": "735f1695-8135-48a3-b8a8-77a5b1f685be",
   "metadata": {},
   "source": [
    "# 1. Complete the function solveMeFirst to compute the sum of two integers."
   ]
  },
  {
   "cell_type": "code",
   "execution_count": 7,
   "id": "dd6aebfc-1bd0-4bba-bf38-8cb22c5c7932",
   "metadata": {},
   "outputs": [],
   "source": [
    "def solveMeFirst(a,b):\n",
    "\treturn a + b"
   ]
  },
  {
   "cell_type": "code",
   "execution_count": 3,
   "id": "2911040f-d965-4b0d-a44c-62376f3f6e4e",
   "metadata": {},
   "outputs": [
    {
     "name": "stdin",
     "output_type": "stream",
     "text": [
      " 7\n",
      " 3\n"
     ]
    },
    {
     "name": "stdout",
     "output_type": "stream",
     "text": [
      "10\n"
     ]
    }
   ],
   "source": [
    "num1 = int(input())\n",
    "num2 = int(input())\n",
    "res = solveMeFirst(num1,num2)\n",
    "print(res)"
   ]
  },
  {
   "cell_type": "markdown",
   "id": "4329f039-60a5-4b26-b368-ca248dd5b5c8",
   "metadata": {},
   "source": [
    "# 2. Given an array of integers, find the sum of its elements.\n",
    "\n",
    "For example, if the array ar = [1,2,3], 1+2+3 = 6, so return 6.\n",
    "\n",
    "Function Description\n",
    "\n",
    "Complete the simpleArraySum function in the editor below. It must return the sum of the array elements as an integer.\n",
    "\n",
    "simpleArraySum has the following parameter(s):\n",
    "\n",
    "    ar: an array of integers\n"
   ]
  },
  {
   "cell_type": "code",
   "execution_count": 8,
   "id": "a1b80093-2e76-4f79-87f0-2cdb2ffed559",
   "metadata": {},
   "outputs": [
    {
     "data": {
      "text/plain": [
       "15"
      ]
     },
     "execution_count": 8,
     "metadata": {},
     "output_type": "execute_result"
    }
   ],
   "source": [
    "# we could do this very quickly with a np.array\n",
    "ar = np.array([1,2,3,4,5])\n",
    "ar.sum()"
   ]
  },
  {
   "cell_type": "code",
   "execution_count": 9,
   "id": "34872894-cf6d-478d-a2c4-a83cac3a2890",
   "metadata": {},
   "outputs": [
    {
     "data": {
      "text/plain": [
       "15"
      ]
     },
     "execution_count": 9,
     "metadata": {},
     "output_type": "execute_result"
    }
   ],
   "source": [
    "# but that wasn't an option, so here is the code to fill in their function\n",
    "def simpleArraySum(ar):\n",
    "    output = 0\n",
    "    for x in ar:\n",
    "        output += x\n",
    "    return output\n",
    "simpleArraySum(ar)"
   ]
  },
  {
   "cell_type": "markdown",
   "id": "5dcf66d0-5a12-4aa1-b1ed-fc5438fc6d3e",
   "metadata": {},
   "source": [
    "# 3. Word Problem\n",
    "Alice and Bob each created one problem for HackerRank. A reviewer rates the two challenges, awarding points on a scale from 1 to 100 for three categories: problem clarity, originality, and difficulty.\n",
    "\n",
    "The rating for Alice's challenge is the triplet a = (a[0], a[1], a[2]), and the rating for Bob's challenge is the triplet b = (b[0], b[1], b[2]).\n",
    "\n",
    "The task is to find their comparison points by comparing a[0] with b[0], a[1] with b[1], and a[2] with b[2].\n",
    "\n",
    "    If a[i] > b[i], then Alice is awarded 1 point.\n",
    "    If a[i] < b[i], then Bob is awarded 1 point.\n",
    "    If a[i] = b[i], then neither person receives a point.\n",
    "\n",
    "Comparison points is the total points a person earned.\n",
    "\n",
    "Given a and b, determine their respective comparison points.\n",
    "\n",
    "Example\n",
    "\n",
    "a = [1, 2, 3]\n",
    "b = [3, 2, 1]\n",
    "\n",
    "    For elements *0*, Bob is awarded a point because a[0] .\n",
    "    For the equal elements a[1] and b[1], no points are earned.\n",
    "    Finally, for elements 2, a[2] > b[2] so Alice receives a point.\n",
    "\n",
    "The return array is [1, 1] with Alice's score first and Bob's second. "
   ]
  },
  {
   "cell_type": "code",
   "execution_count": 13,
   "id": "d59f6591-fcdd-4773-96a3-8f3c31e07369",
   "metadata": {},
   "outputs": [],
   "source": [
    "def compareTriplets(a, b):\n",
    "    \"\"\"\n",
    "    The function is expected to return an INTEGER_ARRAY (really an integer list).\n",
    "    # The function accepts following parameters:\n",
    "    #  1. INTEGER_ARRAY a\n",
    "    #  2. INTEGER_ARRAY b\n",
    "    \"\"\"\n",
    "    output = [0,0]\n",
    "    for x, y in zip(a, b):\n",
    "        if x > y: output[0] += 1\n",
    "        elif y > x: output[1] += 1\n",
    "    return output"
   ]
  },
  {
   "cell_type": "code",
   "execution_count": 11,
   "id": "eb726b1e-e5e5-41fe-95c3-ef9d1b8b2e45",
   "metadata": {},
   "outputs": [
    {
     "data": {
      "text/plain": [
       "[1, 1]"
      ]
     },
     "execution_count": 11,
     "metadata": {},
     "output_type": "execute_result"
    }
   ],
   "source": [
    "compareTriplets([1,2,3],[3,2,1])"
   ]
  },
  {
   "cell_type": "markdown",
   "id": "6a9fa971-93f8-4c26-b248-1900a21891bc",
   "metadata": {},
   "source": [
    "# 4. In this challenge, you are required to calculate and print the sum of the elements in an array, keeping in mind that some of those integers may be quite large.\n",
    "\n",
    "Function Description\n",
    "\n",
    "Complete the aVeryBigSum function in the editor below. It must return the sum of all array elements.\n",
    "\n",
    "aVeryBigSum has the following parameter(s):\n",
    "\n",
    "    int ar[n]: an array of integers .\n",
    "\n",
    "Return\n",
    "\n",
    "    long: the sum of all array elements"
   ]
  },
  {
   "cell_type": "code",
   "execution_count": 16,
   "id": "9869bdc0-9381-4eb6-b580-cd805baeab7c",
   "metadata": {},
   "outputs": [],
   "source": [
    "# this challenge must have been built for a different language with different \n",
    "# number data types in mind. In python, I just used the same code as above"
   ]
  },
  {
   "cell_type": "code",
   "execution_count": 17,
   "id": "1288073c-79b9-4a81-aff9-d2ad16aeab60",
   "metadata": {},
   "outputs": [],
   "source": [
    "def aVeryBigSum(ar):\n",
    "    \"\"\"\n",
    "    sum the elements of ar and return the sum\n",
    "    \"\"\"\n",
    "    output = 0\n",
    "    for x in ar:\n",
    "        output += x\n",
    "    return output"
   ]
  },
  {
   "cell_type": "markdown",
   "id": "5e706deb-6201-4d05-8c06-b3161b2bf8fb",
   "metadata": {},
   "source": [
    "# 5. Given an array of integers, calculate the ratios of its elements that are positive, negative, and zero. Print the decimal value of each fraction on a new line with 6 places after the decimal.\n",
    "\n",
    "Note: This challenge introduces precision problems. The test cases are scaled to six decimal places, though answers with absolute error of up to are acceptable.\n",
    "\n",
    "Example: ar = [1, 1, 0, -1, -1]\n",
    "\n",
    "There are n = 5 elements, two positive, two negative and one zero. Their ratios are 2/5, 2/5, 1/5, and\n",
    "\n",
    ". Results are printed as:\n",
    "\n",
    "0.400000\n",
    "0.400000\n",
    "0.200000\n"
   ]
  },
  {
   "cell_type": "code",
   "execution_count": 30,
   "id": "fb2a23e3-6f66-4ec6-a431-e12c71f52894",
   "metadata": {},
   "outputs": [],
   "source": [
    "# solution with numpy\n",
    "def plusMinus_np(ar):\n",
    "    \"\"\"\n",
    "    input: ar is a np.array\n",
    "    print ratio of number of positive/negative/zero integers to total number of integers\n",
    "    \"\"\"\n",
    "    print(f'{(ar>0).sum()/len(ar):.6f}') # positve ratio\n",
    "    print(f'{(ar<0).sum()/len(ar):.6f}') # negative ratio\n",
    "    print(f'{(ar==0).sum()/len(ar):.6f}') # zero ratio"
   ]
  },
  {
   "cell_type": "code",
   "execution_count": 31,
   "id": "41871694-40f7-4e87-9219-548f1255ecf2",
   "metadata": {},
   "outputs": [],
   "source": [
    "# solution without numpy\n",
    "def plusMinus(ar):\n",
    "    \"\"\"\n",
    "    input: ar is a list of numbers\n",
    "    print ratio of number of positive/negative/zero integers to total number of integers\n",
    "    \"\"\"\n",
    "    p = n = z = 0\n",
    "    for i in ar:\n",
    "        p += (i>0)\n",
    "        n += (i<0)\n",
    "        z += (i==0)\n",
    "    print(f'{p/len(ar):.6f}') # positve ratio\n",
    "    print(f'{n/len(ar):.6f}') # negative ratio\n",
    "    print(f'{z/len(ar):.6f}') # zero ratio"
   ]
  },
  {
   "cell_type": "code",
   "execution_count": 26,
   "id": "e92909c2-2f92-4d12-a9bf-ba76fb07f1e9",
   "metadata": {},
   "outputs": [
    {
     "data": {
      "text/plain": [
       "5"
      ]
     },
     "execution_count": 26,
     "metadata": {},
     "output_type": "execute_result"
    }
   ],
   "source": [
    "ar = np.array([1,1,0,-1,-1])\n",
    "\n",
    "len(ar)"
   ]
  },
  {
   "cell_type": "code",
   "execution_count": 21,
   "id": "52baeffd-a13e-4850-bb54-04c6efc32d72",
   "metadata": {},
   "outputs": [
    {
     "name": "stdout",
     "output_type": "stream",
     "text": [
      "0.600000\n"
     ]
    }
   ],
   "source": [
    "a = .6\n",
    "print(f'{a:.6f}')"
   ]
  },
  {
   "cell_type": "code",
   "execution_count": 32,
   "id": "329ae55f-e6e7-424f-b73e-5b1d5da81d8b",
   "metadata": {},
   "outputs": [],
   "source": [
    "ls = [1,1,0,-1,-1]"
   ]
  },
  {
   "cell_type": "code",
   "execution_count": 33,
   "id": "6819e72c-29a3-4d37-93b5-1159f7626905",
   "metadata": {},
   "outputs": [
    {
     "name": "stdout",
     "output_type": "stream",
     "text": [
      "0.400000\n",
      "0.400000\n",
      "0.200000\n"
     ]
    }
   ],
   "source": [
    "plusMinus(ls)"
   ]
  },
  {
   "cell_type": "markdown",
   "id": "06820de7-0963-409c-a795-f9aa9fe0ea5b",
   "metadata": {},
   "source": [
    "# 6. Staircase detail"
   ]
  },
  {
   "cell_type": "code",
   "execution_count": 58,
   "id": "01ddf760-6260-4dbb-b3e1-2e5b22ba17d5",
   "metadata": {},
   "outputs": [
    {
     "name": "stdout",
     "output_type": "stream",
     "text": [
      "     #\n",
      "    #\n",
      "   #\n",
      "##\n"
     ]
    }
   ],
   "source": [
    "# f strings ?\n",
    "s = '#'\n",
    "print(f'{s:>6}')\n",
    "print(f'{s:>5}')\n",
    "print(f'{s:>4}')\n",
    "print(s*2)"
   ]
  },
  {
   "cell_type": "code",
   "execution_count": 70,
   "id": "af376d0d-53fc-4d6e-973b-8ad61b0e3b5f",
   "metadata": {},
   "outputs": [
    {
     "name": "stdout",
     "output_type": "stream",
     "text": [
      "         #\n",
      "        ##\n",
      "       ###\n",
      "      ####\n",
      "     #####\n",
      "    ######\n",
      "   #######\n",
      "  ########\n",
      " #########\n",
      " ##########\n"
     ]
    }
   ],
   "source": [
    "# f strings actually made it more difficult\n",
    "n = 10\n",
    "space = ' '\n",
    "thing = '#'\n",
    "for i in range(n-1,-1,-1):\n",
    "    print(f'{space:>{i}}'+(thing*(-1*(i-n))))"
   ]
  },
  {
   "cell_type": "code",
   "execution_count": 71,
   "id": "f52154d3-7fcc-4bef-9e78-27b81a5314c4",
   "metadata": {},
   "outputs": [],
   "source": [
    "def staircase(n):\n",
    "    space = ' '\n",
    "    thing = '#'\n",
    "    for i in range(1,n+1):\n",
    "        print((space*(n-i))+(thing*i))"
   ]
  },
  {
   "cell_type": "code",
   "execution_count": 72,
   "id": "854afd2b-04a5-48a8-8a5a-f154776c8b6b",
   "metadata": {},
   "outputs": [
    {
     "name": "stdout",
     "output_type": "stream",
     "text": [
      "         #\n",
      "        ##\n",
      "       ###\n",
      "      ####\n",
      "     #####\n",
      "    ######\n",
      "   #######\n",
      "  ########\n",
      " #########\n",
      "##########\n"
     ]
    }
   ],
   "source": [
    "staircase(10)"
   ]
  },
  {
   "cell_type": "markdown",
   "id": "1987e1da-2628-4d71-8dac-9ff5bbdea27e",
   "metadata": {},
   "source": [
    "# 7. Given five positive integers, find the minimum and maximum values that can be calculated by summing exactly four of the five integers. Then print the respective minimum and maximum values as a single line of two space-separated long integers. \n",
    "\n",
    "Example: \n",
    "ls = [1,3,5,7,9]\n",
    "Min sum is 16; Max sum is 24. The function prints:\n",
    "\n",
    "16 24"
   ]
  },
  {
   "cell_type": "code",
   "execution_count": 6,
   "id": "6cb2e64d-acb6-4856-a4a3-d3830f5e07d5",
   "metadata": {},
   "outputs": [
    {
     "data": {
      "text/plain": [
       "[1, 3, 10, 5, 7, 9]"
      ]
     },
     "execution_count": 6,
     "metadata": {},
     "output_type": "execute_result"
    }
   ],
   "source": [
    "ls = [1,3,10,5,7,9]\n",
    "ls"
   ]
  },
  {
   "cell_type": "code",
   "execution_count": 17,
   "id": "13f0a128-e37d-44b9-9bd7-d1fd9544b478",
   "metadata": {},
   "outputs": [],
   "source": [
    "def miniMaxSum(arr):\n",
    "    \"\"\"\n",
    "    This function accepts a list of 5 integers, arr.\n",
    "    It sorts it and then sums the first four and the last four numbers and prints those two numbers.\n",
    "    \"\"\"\n",
    "    arr.sort()\n",
    "    print(sum(arr[:4]), sum(arr[-4:]))\n",
    "    return"
   ]
  },
  {
   "cell_type": "code",
   "execution_count": 18,
   "id": "11a1ff26-9b96-438e-9734-04cb024f2b22",
   "metadata": {},
   "outputs": [
    {
     "name": "stdout",
     "output_type": "stream",
     "text": [
      "16 31\n"
     ]
    }
   ],
   "source": [
    "miniMaxSum(ls)"
   ]
  },
  {
   "cell_type": "markdown",
   "id": "607512f3-f1e5-4852-9dbe-11bcbcfdc429",
   "metadata": {},
   "source": [
    "# 8. You are in charge of the cake for a child's birthday. You have decided the cake will have one candle for each year of their total age. They will only be able to blow out the tallest of the candles. Count how many candles are tallest.\n",
    "\n",
    "Example: candles = [4, 4, 1, 3]\n",
    "\n",
    "The maximum height candles are 4 units high. There are 2 of them, so return 2\n",
    "\n",
    "Function Description\n",
    "\n",
    "Complete the function birthdayCakeCandles in the editor below.\n",
    "\n",
    "birthdayCakeCandles has the following parameter(s):\n",
    "\n",
    "    int candles[n]: the candle heights\n",
    "\n",
    "Returns\n",
    "\n",
    "    int: the number of candles that are tallest\n"
   ]
  },
  {
   "cell_type": "code",
   "execution_count": 1,
   "id": "79a0fa47-8739-400f-878b-dfd00de9a712",
   "metadata": {},
   "outputs": [
    {
     "data": {
      "text/plain": [
       "4"
      ]
     },
     "execution_count": 1,
     "metadata": {},
     "output_type": "execute_result"
    }
   ],
   "source": [
    "ls = [4,4,1,3]\n",
    "max(ls)"
   ]
  },
  {
   "cell_type": "code",
   "execution_count": 2,
   "id": "d8df27cf-d8e9-498c-832d-a92efc763c0f",
   "metadata": {},
   "outputs": [
    {
     "data": {
      "text/plain": [
       "2"
      ]
     },
     "execution_count": 2,
     "metadata": {},
     "output_type": "execute_result"
    }
   ],
   "source": [
    "ls.count(max(ls))"
   ]
  },
  {
   "cell_type": "code",
   "execution_count": 3,
   "id": "56a684ab-52b5-4d13-a500-1de6472a11d3",
   "metadata": {},
   "outputs": [],
   "source": [
    "def birthdayCakeCandles(candles):\n",
    "    \"\"\"\n",
    "    This function will \n",
    "    - accept a list of integers, candles\n",
    "    - return an integer, the count of the num of times the max value of candles is in candles\n",
    "    - e.g. candles = [4,4,3,1] returns 2 (4 is the max value in candles, and it appears 2 times)\n",
    "    \"\"\"\n",
    "    return candles.count(max(candles))"
   ]
  },
  {
   "cell_type": "code",
   "execution_count": 4,
   "id": "c3e05607-0763-41dd-9cfa-d1e13103f5f5",
   "metadata": {},
   "outputs": [
    {
     "data": {
      "text/plain": [
       "2"
      ]
     },
     "execution_count": 4,
     "metadata": {},
     "output_type": "execute_result"
    }
   ],
   "source": [
    "birthdayCakeCandles(ls)"
   ]
  },
  {
   "cell_type": "markdown",
   "id": "44809fdf-2a85-4148-ae50-2733f02a9edb",
   "metadata": {},
   "source": [
    "# 9. Given a time in 12-hour AM/PM format, convert it to military (24-hour) time.\n",
    "\n",
    "Note: \n",
    "- 12:00:00AM on a 12-hour clock is 00:00:00 on a 24-hour clock.\n",
    "- 12:00:00PM on a 12-hour clock is 12:00:00 on a 24-hour clock.\n",
    "\n",
    "Example\n",
    "- s = '12:01:00PM'\n",
    "- Return '12:01:00'.\n",
    "\n",
    "- s = '12:01:00AM'\n",
    "- Return '00:01:00'.\n",
    "\n",
    "Function Description\n",
    "\n",
    "Complete the timeConversion function in the editor below. It should return a new string representing the input time in 24 hour format.\n",
    "\n",
    "timeConversion has the following parameter(s):\n",
    "\n",
    "    string s: a time in 12 hour format\n",
    "\n",
    "Returns\n",
    "\n",
    "    string: the time in 24 hour format\n",
    "\n",
    "Input Format\n",
    "\n",
    "A single string s that represents a time in 12-hour clock format (i.e.: hh:mm:ssAM or hh:mm:ssPM).\n",
    "\n",
    "Constraints\n",
    "\n",
    "    All input times are valid\n"
   ]
  },
  {
   "cell_type": "code",
   "execution_count": 1,
   "id": "203c4337-fa0c-460b-8093-fe56565869b4",
   "metadata": {},
   "outputs": [
    {
     "data": {
      "text/plain": [
       "'PM'"
      ]
     },
     "execution_count": 1,
     "metadata": {},
     "output_type": "execute_result"
    }
   ],
   "source": [
    "s = '07:05:00PM'\n",
    "s[-2:]"
   ]
  },
  {
   "cell_type": "code",
   "execution_count": 2,
   "id": "7889a3a9-fc3b-4a0a-820e-1438760755e2",
   "metadata": {},
   "outputs": [
    {
     "name": "stdout",
     "output_type": "stream",
     "text": [
      "19:05:00\n"
     ]
    }
   ],
   "source": [
    "if s[-2:] == 'PM':\n",
    "    hour_int = int(s[:2]) + 12\n",
    "    hour_str = str(hour_int)\n",
    "    mil_time = hour_str + s[2:-2]\n",
    "    print (mil_time)"
   ]
  },
  {
   "cell_type": "code",
   "execution_count": 5,
   "id": "d4031444-2278-4ad7-a291-e7f8069db307",
   "metadata": {},
   "outputs": [],
   "source": [
    "def timeConversion(s):\n",
    "    \"\"\"\n",
    "    This function will\n",
    "    - accept a string, s in the format 'hh:mm:ssAM' (or PM) which is a valid time (01-12:00-59:00-59)\n",
    "    - change the string to military time in the format hh:mm:ss (12:30:00AM becomes 01:30:00)\n",
    "    - return the string\n",
    "    \"\"\"\n",
    "    # if the time is AM, and the first two digits are 12, then make the first two digits 00\n",
    "    if s[-2:] == 'AM':\n",
    "        if s[:2] == '12':\n",
    "            # string of the form '12:mm:ssAM' becomes '00:mm:ss'\n",
    "            return '00' + s[2:-2]\n",
    "        # for everything else (first two digits are 01-11), we just drop the 'AM' at the end\n",
    "        else: return s[:-2]\n",
    "    # if the time is PM, and the first two digits are 12, then drop the PM and return\n",
    "    elif s[-2:] == 'PM':\n",
    "        if s[:2] == '12':\n",
    "            # 12:mm:ss is good, just drop the PM\n",
    "            return s[:-2]\n",
    "        # if the first two digits are 01-11, we add 12 to the hour and return\n",
    "        else:\n",
    "            hour_int = int(s[:2]) + 12\n",
    "            hour_str = str(hour_int)\n",
    "            return hour_str + s[2:-2]\n"
   ]
  },
  {
   "cell_type": "code",
   "execution_count": 13,
   "id": "4b5cb8f2-aecb-4917-a425-c35332d75661",
   "metadata": {},
   "outputs": [
    {
     "name": "stdout",
     "output_type": "stream",
     "text": [
      "01:30:00AM    01:30:00\n",
      "02:30:00AM    02:30:00\n",
      "03:30:00AM    03:30:00\n",
      "04:30:00AM    04:30:00\n",
      "05:30:00AM    05:30:00\n",
      "06:30:00AM    06:30:00\n",
      "07:30:00AM    07:30:00\n",
      "08:30:00AM    08:30:00\n",
      "09:30:00AM    09:30:00\n",
      "10:30:00AM    10:30:00\n",
      "11:30:00AM    11:30:00\n",
      "12:30:00AM    00:30:00\n"
     ]
    }
   ],
   "source": [
    "# TESTING AM\n",
    "start = '01:30:00AM'\n",
    "for i in range(0,12):\n",
    "    t = str(int(start[:2]) + i) + start[2:]\n",
    "    if len(t) == 9: \n",
    "        t = '0' + t\n",
    "    print(t, '  ', timeConversion(t))"
   ]
  },
  {
   "cell_type": "code",
   "execution_count": 14,
   "id": "a42cea50-5f1c-4ad4-b3f7-cf606d8b1a3a",
   "metadata": {},
   "outputs": [
    {
     "name": "stdout",
     "output_type": "stream",
     "text": [
      "01:30:00PM    13:30:00\n",
      "02:30:00PM    14:30:00\n",
      "03:30:00PM    15:30:00\n",
      "04:30:00PM    16:30:00\n",
      "05:30:00PM    17:30:00\n",
      "06:30:00PM    18:30:00\n",
      "07:30:00PM    19:30:00\n",
      "08:30:00PM    20:30:00\n",
      "09:30:00PM    21:30:00\n",
      "10:30:00PM    22:30:00\n",
      "11:30:00PM    23:30:00\n",
      "12:30:00PM    12:30:00\n"
     ]
    }
   ],
   "source": [
    "# TESTING PM\n",
    "start = '01:30:00PM'\n",
    "for i in range(0,12):\n",
    "    t = str(int(start[:2]) + i) + start[2:]\n",
    "    if len(t) == 9: \n",
    "        t = '0' + t\n",
    "    print(t, '  ', timeConversion(t))"
   ]
  },
  {
   "cell_type": "markdown",
   "id": "481aa4f6-9dad-48f8-85f8-01b30258751e",
   "metadata": {},
   "source": [
    "# 10. It is the Indian version of the famous heist “The Italian Job”. \n",
    "\n",
    "N robbers have already broken into the National Museum and are just about to get inside the main vault which is full of jewels. They were lucky that just as they broke into the museum, the guard was leaving the museum for exactly G minutes. But there are other problems too. The main vault has heat sensors that if at any moment of time there are more than two people present in the vault, the alarm goes off.\n",
    "\n",
    "To collect the jewels, the ith robber needs to be inside the vault for exactly A[i] minutes, 0 <= i < N, in one continuous stretch. As guard will return after G minutes, they have to finish their tasks within G minutes. The robbers want to know if there exists any arrangement such that demands of each robber is satisfied and also they are not caught?\n",
    "\n",
    "Gotchas\n",
    "If a robber goes inside the vault at a time \"X\" and at the same time another robber comes out, it's equivalent to saying they were never in the vault at the same time.\n",
    "Similarly, when the guard gets inside vault at time G and a robber comes out exactly at time G, the guard will not be able see the robber.\n",
    "\n",
    "Input Format\n",
    "\n",
    "The first line contains an integer T denoting the number of testcases. T testcases follow. Each testcase consists of two lines. First line contains two space separated integers denoting N and G denoting the number of thieves and duration for which guard leaves the museum.\n",
    "The next line contains N space separated numbers where the ith integer, A[i] represents the time the ith robber needs to be in the vault.\n",
    "\n",
    "Constraints\n",
    "\n",
    "1 <= T <= 20\n",
    "1 <= N <= 100\n",
    "0 <= G <= 1000000 (106)\n",
    "0 <= A[i] <= 100\n",
    "\n",
    "Output Format\n",
    "\n",
    "For each testcase print YES if there exists such an arrangement or NO otherwise in a newline. "
   ]
  },
  {
   "cell_type": "code",
   "execution_count": 78,
   "id": "5e91e867-3453-4cbe-be16-a48eb66f6a68",
   "metadata": {},
   "outputs": [],
   "source": [
    "def indianJob(g, arr):\n",
    "    \"\"\"\n",
    "    This function will solve the above problem. \n",
    "    - accept g, integer denoting the time in minutes the guard will be gone\n",
    "    - accept arr, a list of integers denoting time in minutes each robber needs to be in vault\n",
    "    - remember, no more than 2 robbers can be in the vault at any one time\n",
    "    \"\"\"\n",
    "    # if the sum of the array / 2 (max number of robbers in vault) is > g, then it can't be done\n",
    "    if (sum(arr) / 2) > g: return 'NO'\n",
    "    # if the max value of arr is greater than g, then it can't be done\n",
    "    if max(arr) > g: return 'NO'\n",
    "\n",
    "    # one more edge case: if length of arr is <= 2, and the function made it this far => 'YES'\n",
    "    if len(arr) <= 2: return 'YES'\n",
    "\n",
    "    # first sort arr so large numbers (times) are at beginning\n",
    "    arr.sort(reverse=True)\n",
    "    # next initialize time_1 and time_2; we will track two timelines\n",
    "    time_1 = arr[0]\n",
    "    time_2 = arr[1]\n",
    "    # initialize a leftovers_index to keep track of the locations of the values in arr that\n",
    "    # couldn't be added to time_1\n",
    "    leftovers_index = []\n",
    "    # iterate from arr[2] through the end, adding times to time_1 as long as time_1 remains < g\n",
    "    for i in range (2,len(arr)):\n",
    "        if (time_1 + arr[i]) <= g:\n",
    "            time_1 += arr[i]\n",
    "        else:\n",
    "            leftovers_index.append(i)\n",
    "    # testing\n",
    "    # print(f'time_1 = {time_1}')\n",
    "    # print(\"leftovers_index\")\n",
    "    # print(leftovers_index)\n",
    "    # print(\"arr\")\n",
    "    # print(f'arr == {arr}')\n",
    "    # print(f'starting time_2 = {time_2}')\n",
    "    # now use the leftovers_index to add the remaining values of arr to time_2\n",
    "    for i in leftovers_index:\n",
    "        # print(f'i == {i} arr[i] == {arr[i]}')\n",
    "        time_2 += arr[i]\n",
    "        # print(f'time_2 = {time_2}')\n",
    "    # IF time_2 is <= g, 'YES' !!\n",
    "    if time_2 <= g: return 'YES'\n",
    "    # this line made it worse, so no. elif (time_2 - g) <= (g - time_1): return 'YES'\n",
    "    else: return 'NO'"
   ]
  },
  {
   "cell_type": "code",
   "execution_count": 67,
   "id": "b0838af9-1c99-47d9-8a3c-9a1c7c325678",
   "metadata": {},
   "outputs": [],
   "source": [
    "def convert_str_to_list(s):\n",
    "    \"\"\"\n",
    "    This function will\n",
    "    - accept a string of integers separated by spaces\n",
    "    - return a list of integers\n",
    "    \"\"\"\n",
    "    s_list = s.split()\n",
    "    int_list = [eval(s) for s in s_list]\n",
    "    return (int_list)\n",
    "    "
   ]
  },
  {
   "cell_type": "code",
   "execution_count": 92,
   "id": "12cdb155-0c18-4d83-9c6d-7e2b6d8d0f14",
   "metadata": {},
   "outputs": [],
   "source": [
    "test_case = \"94 93 95 100 92 90 98 86 90 90 85 86 99 86 97 97 87 93 85 92 89 90 87 88 95 98 85 85 97 92 88 90 89 94 94 100 100 95 96 89 91 92 90 97 95 94 90 86 100 97 87 100 85 96 89 86 92 97 90 89 93 93 99 89 89 96 91 100 93 85 87 89 100 93 98 97 85 99 96 99 95 89 98 90 100 86 97 88 90 99 98 97 98 91 87 95 95 91 86 95\""
   ]
  },
  {
   "cell_type": "code",
   "execution_count": 93,
   "id": "4be67988-3df0-4545-8164-fd3048da1f73",
   "metadata": {},
   "outputs": [],
   "source": [
    "arr = convert_str_to_list(test_case)"
   ]
  },
  {
   "cell_type": "code",
   "execution_count": 94,
   "id": "8c511668-986f-4a01-8fbf-05ff0da0d26c",
   "metadata": {},
   "outputs": [],
   "source": [
    "g = 4628\n",
    "#indianJob(g, arr)"
   ]
  },
  {
   "cell_type": "code",
   "execution_count": 81,
   "id": "1446ff05-f9b8-4743-97e9-7cd8ec60f760",
   "metadata": {},
   "outputs": [
    {
     "data": {
      "text/plain": [
       "199"
      ]
     },
     "execution_count": 81,
     "metadata": {},
     "output_type": "execute_result"
    }
   ],
   "source": [
    "g = 100\n",
    "arr = [10, 10, 10, 9, 9, 9, 9, 9, 9, 9, 9, 9, 8, 8, 8, 8, 8, 8, 8, 8, 8, 8, 8]\n",
    "sum(arr)"
   ]
  },
  {
   "cell_type": "code",
   "execution_count": 82,
   "id": "520ab344-5d9a-43e3-afd5-ba0d1d0949e7",
   "metadata": {},
   "outputs": [
    {
     "data": {
      "text/plain": [
       "[(8, 11), (9, 9), (10, 3)]"
      ]
     },
     "execution_count": 82,
     "metadata": {},
     "output_type": "execute_result"
    }
   ],
   "source": [
    "frequency = [ (i,arr.count(i)) for i in set(arr) ]\n",
    "frequency"
   ]
  },
  {
   "cell_type": "code",
   "execution_count": 83,
   "id": "f7aadabe-174a-40ec-b701-e243a52f450d",
   "metadata": {},
   "outputs": [],
   "source": [
    "frequency.reverse()"
   ]
  },
  {
   "cell_type": "code",
   "execution_count": 84,
   "id": "7327dac0-29dd-4723-81b3-bf01bc9c8abd",
   "metadata": {},
   "outputs": [
    {
     "data": {
      "text/plain": [
       "[(10, 3), (9, 9), (8, 11)]"
      ]
     },
     "execution_count": 84,
     "metadata": {},
     "output_type": "execute_result"
    }
   ],
   "source": [
    "frequency"
   ]
  },
  {
   "cell_type": "code",
   "execution_count": 89,
   "id": "d330ee7b-37b4-4b96-b11c-269c172ab760",
   "metadata": {},
   "outputs": [
    {
     "data": {
      "text/plain": [
       "10"
      ]
     },
     "execution_count": 89,
     "metadata": {},
     "output_type": "execute_result"
    }
   ],
   "source": [
    "frequency[0][0]"
   ]
  },
  {
   "cell_type": "code",
   "execution_count": 96,
   "id": "b53dd919-7518-4336-b0c3-39a0c579ea7c",
   "metadata": {
    "jupyter": {
     "source_hidden": true
    },
    "tags": []
   },
   "outputs": [],
   "source": [
    "# recursive example from Chat GPT - takes way too long with bigger lists\n",
    "def find_max_sum_combination(numbers, max_sum):\n",
    "    def find_combination(index, current_sum):\n",
    "        if index == len(numbers):\n",
    "            return []\n",
    "        \n",
    "        # Include the current number in the combination\n",
    "        include_combination = find_combination(index + 1, current_sum + numbers[index])\n",
    "        \n",
    "        # Exclude the current number from the combination\n",
    "        exclude_combination = find_combination(index + 1, current_sum)\n",
    "        \n",
    "        if current_sum + numbers[index] <= max_sum:\n",
    "            # If including the current number doesn't exceed max_sum, compare the two combinations\n",
    "            if sum(include_combination) + numbers[index] > sum(exclude_combination):\n",
    "                include_combination.append(numbers[index])\n",
    "            else:\n",
    "                include_combination = exclude_combination\n",
    "        \n",
    "        return include_combination\n",
    "    \n",
    "    result_combination = find_combination(0, 0)\n",
    "    return result_combination"
   ]
  },
  {
   "cell_type": "code",
   "execution_count": 91,
   "id": "91b0e823-8c3a-4e45-a317-81cfe2959031",
   "metadata": {},
   "outputs": [
    {
     "name": "stdout",
     "output_type": "stream",
     "text": [
      "[7, 5]\n"
     ]
    }
   ],
   "source": [
    "# Example usage:\n",
    "numbers = [1, 3, 5, 7, 9]\n",
    "max_sum = 12\n",
    "result = find_max_sum_combination(numbers, max_sum)\n",
    "print(result)  # Output: [1, 3, 5, 7]"
   ]
  },
  {
   "cell_type": "code",
   "execution_count": 103,
   "id": "3cb4d5a8-4479-40ce-a66b-dd45ab3dae9a",
   "metadata": {},
   "outputs": [],
   "source": [
    "# iterative solution from Chat GPT works much faster\n",
    "# this solution passed all the HackerRank test cases\n",
    "def find_max_sum_combination(numbers, max_sum):\n",
    "    n = len(numbers)\n",
    "    # Create a 2D table to store the maximum sum for each subproblem\n",
    "    dp = [[0] * (max_sum + 1) for _ in range(n + 1)]\n",
    "\n",
    "    for i in range(1, n + 1):\n",
    "        for j in range(1, max_sum + 1):\n",
    "            # If the current number is greater than the current max_sum, ignore it\n",
    "            if numbers[i - 1] > j:\n",
    "                dp[i][j] = dp[i - 1][j]\n",
    "            else:\n",
    "                # Otherwise, choose whether to include or exclude the current number\n",
    "                dp[i][j] = max(dp[i - 1][j], dp[i - 1][j - numbers[i - 1]] + numbers[i - 1])\n",
    "\n",
    "    # Reconstruct the combination\n",
    "    result_combination = []\n",
    "    i, j = n, max_sum\n",
    "    while i > 0 and j > 0:\n",
    "        if dp[i][j] != dp[i - 1][j]:\n",
    "            result_combination.append(numbers[i - 1])\n",
    "            j -= numbers[i - 1]\n",
    "        i -= 1\n",
    "\n",
    "    if sum(numbers) - sum(result_combination) <= max_sum:\n",
    "        return 'YES'\n",
    "    else:\n",
    "        return 'NO'\n",
    "    # return result_combination\n"
   ]
  },
  {
   "cell_type": "code",
   "execution_count": 101,
   "id": "1c24587e-b759-448c-b41a-61c6b22739ea",
   "metadata": {},
   "outputs": [
    {
     "name": "stdout",
     "output_type": "stream",
     "text": [
      "YES\n"
     ]
    }
   ],
   "source": [
    "result = find_max_sum_combination(arr, g)\n",
    "print(result)"
   ]
  },
  {
   "cell_type": "code",
   "execution_count": 104,
   "id": "ba9ec11b-2041-4df6-a5b8-c23375e4f62b",
   "metadata": {},
   "outputs": [
    {
     "data": {
      "text/plain": [
       "[0, 0, 0, 0, 0]"
      ]
     },
     "execution_count": 104,
     "metadata": {},
     "output_type": "execute_result"
    }
   ],
   "source": [
    "[0] * 5"
   ]
  },
  {
   "cell_type": "code",
   "execution_count": 105,
   "id": "707dc148-4465-4a3e-afaa-98d47d0b62dc",
   "metadata": {},
   "outputs": [
    {
     "data": {
      "text/plain": [
       "[[0, 0, 0, 0, 0, 0, 0, 0, 0, 0, 0, 0, 0, 0, 0, 0, 0, 0, 0, 0, 0],\n",
       " [0, 0, 0, 0, 0, 0, 0, 0, 0, 0, 0, 0, 0, 0, 0, 0, 0, 0, 0, 0, 0],\n",
       " [0, 0, 0, 0, 0, 0, 0, 0, 0, 0, 0, 0, 0, 0, 0, 0, 0, 0, 0, 0, 0],\n",
       " [0, 0, 0, 0, 0, 0, 0, 0, 0, 0, 0, 0, 0, 0, 0, 0, 0, 0, 0, 0, 0],\n",
       " [0, 0, 0, 0, 0, 0, 0, 0, 0, 0, 0, 0, 0, 0, 0, 0, 0, 0, 0, 0, 0],\n",
       " [0, 0, 0, 0, 0, 0, 0, 0, 0, 0, 0, 0, 0, 0, 0, 0, 0, 0, 0, 0, 0],\n",
       " [0, 0, 0, 0, 0, 0, 0, 0, 0, 0, 0, 0, 0, 0, 0, 0, 0, 0, 0, 0, 0]]"
      ]
     },
     "execution_count": 105,
     "metadata": {},
     "output_type": "execute_result"
    }
   ],
   "source": [
    "dp = [[0] * (20 + 1) for _ in range(6 + 1)]\n",
    "dp"
   ]
  },
  {
   "cell_type": "code",
   "execution_count": null,
   "id": "17e33124-4f0e-48b9-9626-de1767e866e3",
   "metadata": {},
   "outputs": [],
   "source": []
  }
 ],
 "metadata": {
  "kernelspec": {
   "display_name": "Python 3 (ipykernel)",
   "language": "python",
   "name": "python3"
  },
  "language_info": {
   "codemirror_mode": {
    "name": "ipython",
    "version": 3
   },
   "file_extension": ".py",
   "mimetype": "text/x-python",
   "name": "python",
   "nbconvert_exporter": "python",
   "pygments_lexer": "ipython3",
   "version": "3.9.13"
  }
 },
 "nbformat": 4,
 "nbformat_minor": 5
}
