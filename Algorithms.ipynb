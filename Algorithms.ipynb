{
 "cells": [
  {
   "cell_type": "code",
   "execution_count": 1,
   "id": "e533466c-1417-43da-a6b6-0f817b37d71f",
   "metadata": {},
   "outputs": [],
   "source": [
    "import numpy as np\n",
    "import pandas as pd"
   ]
  },
  {
   "cell_type": "markdown",
   "id": "735f1695-8135-48a3-b8a8-77a5b1f685be",
   "metadata": {},
   "source": [
    "# 1. Complete the function solveMeFirst to compute the sum of two integers."
   ]
  },
  {
   "cell_type": "code",
   "execution_count": 7,
   "id": "dd6aebfc-1bd0-4bba-bf38-8cb22c5c7932",
   "metadata": {},
   "outputs": [],
   "source": [
    "def solveMeFirst(a,b):\n",
    "\treturn a + b"
   ]
  },
  {
   "cell_type": "code",
   "execution_count": 3,
   "id": "2911040f-d965-4b0d-a44c-62376f3f6e4e",
   "metadata": {},
   "outputs": [
    {
     "name": "stdin",
     "output_type": "stream",
     "text": [
      " 7\n",
      " 3\n"
     ]
    },
    {
     "name": "stdout",
     "output_type": "stream",
     "text": [
      "10\n"
     ]
    }
   ],
   "source": [
    "num1 = int(input())\n",
    "num2 = int(input())\n",
    "res = solveMeFirst(num1,num2)\n",
    "print(res)"
   ]
  },
  {
   "cell_type": "markdown",
   "id": "4329f039-60a5-4b26-b368-ca248dd5b5c8",
   "metadata": {},
   "source": [
    "# 2. Given an array of integers, find the sum of its elements.\n",
    "\n",
    "For example, if the array ar = [1,2,3], 1+2+3 = 6, so return 6.\n",
    "\n",
    "Function Description\n",
    "\n",
    "Complete the simpleArraySum function in the editor below. It must return the sum of the array elements as an integer.\n",
    "\n",
    "simpleArraySum has the following parameter(s):\n",
    "\n",
    "    ar: an array of integers\n"
   ]
  },
  {
   "cell_type": "code",
   "execution_count": 8,
   "id": "a1b80093-2e76-4f79-87f0-2cdb2ffed559",
   "metadata": {},
   "outputs": [
    {
     "data": {
      "text/plain": [
       "15"
      ]
     },
     "execution_count": 8,
     "metadata": {},
     "output_type": "execute_result"
    }
   ],
   "source": [
    "# we could do this very quickly with a np.array\n",
    "ar = np.array([1,2,3,4,5])\n",
    "ar.sum()"
   ]
  },
  {
   "cell_type": "code",
   "execution_count": 9,
   "id": "34872894-cf6d-478d-a2c4-a83cac3a2890",
   "metadata": {},
   "outputs": [
    {
     "data": {
      "text/plain": [
       "15"
      ]
     },
     "execution_count": 9,
     "metadata": {},
     "output_type": "execute_result"
    }
   ],
   "source": [
    "# but that wasn't an option, so here is the code to fill in their function\n",
    "def simpleArraySum(ar):\n",
    "    output = 0\n",
    "    for x in ar:\n",
    "        output += x\n",
    "    return output\n",
    "simpleArraySum(ar)"
   ]
  },
  {
   "cell_type": "markdown",
   "id": "5dcf66d0-5a12-4aa1-b1ed-fc5438fc6d3e",
   "metadata": {},
   "source": [
    "# 3. Word Problem\n",
    "Alice and Bob each created one problem for HackerRank. A reviewer rates the two challenges, awarding points on a scale from 1 to 100 for three categories: problem clarity, originality, and difficulty.\n",
    "\n",
    "The rating for Alice's challenge is the triplet a = (a[0], a[1], a[2]), and the rating for Bob's challenge is the triplet b = (b[0], b[1], b[2]).\n",
    "\n",
    "The task is to find their comparison points by comparing a[0] with b[0], a[1] with b[1], and a[2] with b[2].\n",
    "\n",
    "    If a[i] > b[i], then Alice is awarded 1 point.\n",
    "    If a[i] < b[i], then Bob is awarded 1 point.\n",
    "    If a[i] = b[i], then neither person receives a point.\n",
    "\n",
    "Comparison points is the total points a person earned.\n",
    "\n",
    "Given a and b, determine their respective comparison points.\n",
    "\n",
    "Example\n",
    "\n",
    "a = [1, 2, 3]\n",
    "b = [3, 2, 1]\n",
    "\n",
    "    For elements *0*, Bob is awarded a point because a[0] .\n",
    "    For the equal elements a[1] and b[1], no points are earned.\n",
    "    Finally, for elements 2, a[2] > b[2] so Alice receives a point.\n",
    "\n",
    "The return array is [1, 1] with Alice's score first and Bob's second. "
   ]
  },
  {
   "cell_type": "code",
   "execution_count": 13,
   "id": "d59f6591-fcdd-4773-96a3-8f3c31e07369",
   "metadata": {},
   "outputs": [],
   "source": [
    "def compareTriplets(a, b):\n",
    "    \"\"\"\n",
    "    The function is expected to return an INTEGER_ARRAY (really an integer list).\n",
    "    # The function accepts following parameters:\n",
    "    #  1. INTEGER_ARRAY a\n",
    "    #  2. INTEGER_ARRAY b\n",
    "    \"\"\"\n",
    "    output = [0,0]\n",
    "    for x, y in zip(a, b):\n",
    "        if x > y: output[0] += 1\n",
    "        elif y > x: output[1] += 1\n",
    "    return output"
   ]
  },
  {
   "cell_type": "code",
   "execution_count": 11,
   "id": "eb726b1e-e5e5-41fe-95c3-ef9d1b8b2e45",
   "metadata": {},
   "outputs": [
    {
     "data": {
      "text/plain": [
       "[1, 1]"
      ]
     },
     "execution_count": 11,
     "metadata": {},
     "output_type": "execute_result"
    }
   ],
   "source": [
    "compareTriplets([1,2,3],[3,2,1])"
   ]
  },
  {
   "cell_type": "markdown",
   "id": "6a9fa971-93f8-4c26-b248-1900a21891bc",
   "metadata": {},
   "source": [
    "# 4. In this challenge, you are required to calculate and print the sum of the elements in an array, keeping in mind that some of those integers may be quite large.\n",
    "\n",
    "Function Description\n",
    "\n",
    "Complete the aVeryBigSum function in the editor below. It must return the sum of all array elements.\n",
    "\n",
    "aVeryBigSum has the following parameter(s):\n",
    "\n",
    "    int ar[n]: an array of integers .\n",
    "\n",
    "Return\n",
    "\n",
    "    long: the sum of all array elements"
   ]
  },
  {
   "cell_type": "code",
   "execution_count": 16,
   "id": "9869bdc0-9381-4eb6-b580-cd805baeab7c",
   "metadata": {},
   "outputs": [],
   "source": [
    "# this challenge must have been built for a different language with different \n",
    "# number data types in mind. In python, I just used the same code as above"
   ]
  },
  {
   "cell_type": "code",
   "execution_count": 17,
   "id": "1288073c-79b9-4a81-aff9-d2ad16aeab60",
   "metadata": {},
   "outputs": [],
   "source": [
    "def aVeryBigSum(ar):\n",
    "    \"\"\"\n",
    "    sum the elements of ar and return the sum\n",
    "    \"\"\"\n",
    "    output = 0\n",
    "    for x in ar:\n",
    "        output += x\n",
    "    return output"
   ]
  },
  {
   "cell_type": "code",
   "execution_count": null,
   "id": "c4cfcdf1-972c-4574-80b8-3fa7349a06a8",
   "metadata": {},
   "outputs": [],
   "source": []
  }
 ],
 "metadata": {
  "kernelspec": {
   "display_name": "Python 3 (ipykernel)",
   "language": "python",
   "name": "python3"
  },
  "language_info": {
   "codemirror_mode": {
    "name": "ipython",
    "version": 3
   },
   "file_extension": ".py",
   "mimetype": "text/x-python",
   "name": "python",
   "nbconvert_exporter": "python",
   "pygments_lexer": "ipython3",
   "version": "3.9.13"
  }
 },
 "nbformat": 4,
 "nbformat_minor": 5
}
